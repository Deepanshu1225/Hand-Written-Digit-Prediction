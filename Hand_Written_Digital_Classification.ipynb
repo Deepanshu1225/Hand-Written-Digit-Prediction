{
  "nbformat": 4,
  "nbformat_minor": 0,
  "metadata": {
    "colab": {
      "provenance": [],
      "include_colab_link": true
    },
    "kernelspec": {
      "name": "python3",
      "display_name": "Python 3"
    },
    "language_info": {
      "name": "python"
    }
  },
  "cells": [
    {
      "cell_type": "markdown",
      "metadata": {
        "id": "view-in-github",
        "colab_type": "text"
      },
      "source": [
        "<a href=\"https://colab.research.google.com/github/Deepanshu1225/Hand-Written-Digit-Prediction/blob/main/Hand_Written_Digital_Classification.ipynb\" target=\"_parent\"><img src=\"https://colab.research.google.com/assets/colab-badge.svg\" alt=\"Open In Colab\"/></a>"
      ]
    },
    {
      "cell_type": "markdown",
      "source": [
        "# Hand Written Digit Prediction - Classification Analysis"
      ],
      "metadata": {
        "id": "7wjzY0pZB1wX"
      }
    },
    {
      "cell_type": "markdown",
      "source": [
        "The digit datasets of 8x8 pixel images of digits.The images attrbute of the dataset stores 8x8 arrays of grayscale values for each\n",
        "images.We will use these arrays to visualize the first 4 images.The target attribute of the dataset stores the digit each image represents"
      ],
      "metadata": {
        "id": "aqjNceiwCwGi"
      }
    },
    {
      "cell_type": "markdown",
      "source": [
        "# Import Library"
      ],
      "metadata": {
        "id": "9Nt-90KFEg7N"
      }
    },
    {
      "cell_type": "code",
      "source": [
        "import pandas as pd"
      ],
      "metadata": {
        "id": "p8snrMJQEouo"
      },
      "execution_count": null,
      "outputs": []
    },
    {
      "cell_type": "code",
      "source": [
        "import numpy as np"
      ],
      "metadata": {
        "id": "kJNUju76GjPW"
      },
      "execution_count": null,
      "outputs": []
    },
    {
      "cell_type": "code",
      "source": [
        "import matplotlib.pyplot as plt"
      ],
      "metadata": {
        "id": "PCqLn0TiGppt"
      },
      "execution_count": null,
      "outputs": []
    },
    {
      "cell_type": "markdown",
      "source": [
        "# Import Data"
      ],
      "metadata": {
        "id": "ViB4MfS6Fl_A"
      }
    },
    {
      "cell_type": "code",
      "source": [
        "from sklearn.datasets import load_digits"
      ],
      "metadata": {
        "id": "szYPH0SqGIz4"
      },
      "execution_count": null,
      "outputs": []
    },
    {
      "cell_type": "code",
      "source": [
        "df = load_digits()"
      ],
      "metadata": {
        "id": "ZohsXmVVG0y-"
      },
      "execution_count": null,
      "outputs": []
    },
    {
      "cell_type": "code",
      "source": [
        "_, axes = plt.subplots(nrows=1, ncols=4, figsize=(10,3))\n",
        "for ax, image, label in zip(axes, df.images, df.target):\n",
        "    ax.set_axis_off()\n",
        "    ax.imshow(image, cmap = plt.cm.gray_r, interpolation=\"nearest\")\n",
        "    ax.set_title(\"Training: %i\" %label)"
      ],
      "metadata": {
        "colab": {
          "base_uri": "https://localhost:8080/",
          "height": 227
        },
        "id": "XL_Ozt-PG5-V",
        "outputId": "db5bd6cd-4be1-4cf0-845b-49106880b925"
      },
      "execution_count": null,
      "outputs": [
        {
          "output_type": "display_data",
          "data": {
            "text/plain": [
              "<Figure size 1000x300 with 4 Axes>"
            ],
            "image/png": "[encoded data removed]"
          },
          "metadata": {}
        }
      ]
    },
    {
      "cell_type": "markdown",
      "source": [
        "# Data Preprocessing"
      ],
      "metadata": {
        "id": "s94E9gldJO-_"
      }
    },
    {
      "cell_type": "code",
      "source": [
        "df.images.shape"
      ],
      "metadata": {
        "id": "u6LsIGvRFO3-",
        "colab": {
          "base_uri": "https://localhost:8080/"
        },
        "outputId": "7f725f05-154a-401f-f835-ade5a0b0000f"
      },
      "execution_count": null,
      "outputs": [
        {
          "output_type": "execute_result",
          "data": {
            "text/plain": [
              "(1797, 8, 8)"
            ]
          },
          "metadata": {},
          "execution_count": 7
        }
      ]
    },
    {
      "cell_type": "code",
      "source": [
        "df.images[0]"
      ],
      "metadata": {
        "colab": {
          "base_uri": "https://localhost:8080/"
        },
        "id": "ATU-B3TaH4_W",
        "outputId": "851e14c5-9050-4b2d-b0e8-6a33f47a1ee1"
      },
      "execution_count": null,
      "outputs": [
        {
          "output_type": "execute_result",
          "data": {
            "text/plain": [
              "array([[ 0.,  0.,  5., 13.,  9.,  1.,  0.,  0.],\n",
              "       [ 0.,  0., 13., 15., 10., 15.,  5.,  0.],\n",
              "       [ 0.,  3., 15.,  2.,  0., 11.,  8.,  0.],\n",
              "       [ 0.,  4., 12.,  0.,  0.,  8.,  8.,  0.],\n",
              "       [ 0.,  5.,  8.,  0.,  0.,  9.,  8.,  0.],\n",
              "       [ 0.,  4., 11.,  0.,  1., 12.,  7.,  0.],\n",
              "       [ 0.,  2., 14.,  5., 10., 12.,  0.,  0.],\n",
              "       [ 0.,  0.,  6., 13., 10.,  0.,  0.,  0.]])"
            ]
          },
          "metadata": {},
          "execution_count": 8
        }
      ]
    },
    {
      "cell_type": "code",
      "source": [
        "df.images[0].shape"
      ],
      "metadata": {
        "colab": {
          "base_uri": "https://localhost:8080/"
        },
        "id": "OlieBjsAH_Dn",
        "outputId": "a9067aef-9023-4fb5-f87d-50e917381873"
      },
      "execution_count": null,
      "outputs": [
        {
          "output_type": "execute_result",
          "data": {
            "text/plain": [
              "(8, 8)"
            ]
          },
          "metadata": {},
          "execution_count": 9
        }
      ]
    },
    {
      "cell_type": "code",
      "source": [
        "len(df.images)"
      ],
      "metadata": {
        "colab": {
          "base_uri": "https://localhost:8080/"
        },
        "id": "98wBpOhZID2e",
        "outputId": "58cb6714-d4ae-4b64-ee5d-3739a2c90109"
      },
      "execution_count": null,
      "outputs": [
        {
          "output_type": "execute_result",
          "data": {
            "text/plain": [
              "1797"
            ]
          },
          "metadata": {},
          "execution_count": 10
        }
      ]
    },
    {
      "cell_type": "code",
      "source": [
        "n_samples = len(df.images)\n",
        "data = df.images.reshape((n_samples,-1))"
      ],
      "metadata": {
        "id": "zvUqceYMIOiX"
      },
      "execution_count": null,
      "outputs": []
    },
    {
      "cell_type": "code",
      "source": [
        "data[0]"
      ],
      "metadata": {
        "colab": {
          "base_uri": "https://localhost:8080/"
        },
        "id": "DEnDSxmEIhFP",
        "outputId": "ed9f6b90-990a-4986-e4bf-50dbdd90cce4"
      },
      "execution_count": null,
      "outputs": [
        {
          "output_type": "execute_result",
          "data": {
            "text/plain": [
              "array([ 0.,  0.,  5., 13.,  9.,  1.,  0.,  0.,  0.,  0., 13., 15., 10.,\n",
              "       15.,  5.,  0.,  0.,  3., 15.,  2.,  0., 11.,  8.,  0.,  0.,  4.,\n",
              "       12.,  0.,  0.,  8.,  8.,  0.,  0.,  5.,  8.,  0.,  0.,  9.,  8.,\n",
              "        0.,  0.,  4., 11.,  0.,  1., 12.,  7.,  0.,  0.,  2., 14.,  5.,\n",
              "       10., 12.,  0.,  0.,  0.,  0.,  6., 13., 10.,  0.,  0.,  0.])"
            ]
          },
          "metadata": {},
          "execution_count": 12
        }
      ]
    },
    {
      "cell_type": "code",
      "source": [
        "data[0].shape"
      ],
      "metadata": {
        "colab": {
          "base_uri": "https://localhost:8080/"
        },
        "id": "hL6rWCDnIo4z",
        "outputId": "1c19a57e-a961-4eb8-9e1c-110a17d14171"
      },
      "execution_count": null,
      "outputs": [
        {
          "output_type": "execute_result",
          "data": {
            "text/plain": [
              "(64,)"
            ]
          },
          "metadata": {},
          "execution_count": 13
        }
      ]
    },
    {
      "cell_type": "code",
      "source": [
        "data.shape"
      ],
      "metadata": {
        "colab": {
          "base_uri": "https://localhost:8080/"
        },
        "id": "lMFU9-JyItfR",
        "outputId": "997d1903-7a6c-4c9f-bda6-bc12fcce13fa"
      },
      "execution_count": null,
      "outputs": [
        {
          "output_type": "execute_result",
          "data": {
            "text/plain": [
              "(1797, 64)"
            ]
          },
          "metadata": {},
          "execution_count": 14
        }
      ]
    },
    {
      "cell_type": "markdown",
      "source": [
        "# Scaling Image Data"
      ],
      "metadata": {
        "id": "YJE6KrLvI3M_"
      }
    },
    {
      "cell_type": "code",
      "source": [
        "data.min()"
      ],
      "metadata": {
        "colab": {
          "base_uri": "https://localhost:8080/"
        },
        "id": "BszBgzEGI61G",
        "outputId": "873851c5-e941-4fe0-a9ce-839b6d25f7a9"
      },
      "execution_count": null,
      "outputs": [
        {
          "output_type": "execute_result",
          "data": {
            "text/plain": [
              "0.0"
            ]
          },
          "metadata": {},
          "execution_count": 15
        }
      ]
    },
    {
      "cell_type": "code",
      "source": [
        "data.max()"
      ],
      "metadata": {
        "colab": {
          "base_uri": "https://localhost:8080/"
        },
        "id": "BIU1eryhJCBh",
        "outputId": "ce78578e-8a97-4a7a-f95d-f8b8a3e63ed9"
      },
      "execution_count": null,
      "outputs": [
        {
          "output_type": "execute_result",
          "data": {
            "text/plain": [
              "16.0"
            ]
          },
          "metadata": {},
          "execution_count": 16
        }
      ]
    },
    {
      "cell_type": "code",
      "source": [
        "data = data/16"
      ],
      "metadata": {
        "id": "gUzrOaYsJF_8"
      },
      "execution_count": null,
      "outputs": []
    },
    {
      "cell_type": "code",
      "source": [
        "data.min()"
      ],
      "metadata": {
        "colab": {
          "base_uri": "https://localhost:8080/"
        },
        "id": "orTOxHoRJMUe",
        "outputId": "7b72fad1-c48d-437d-836d-893ac86479b8"
      },
      "execution_count": null,
      "outputs": [
        {
          "output_type": "execute_result",
          "data": {
            "text/plain": [
              "0.0"
            ]
          },
          "metadata": {},
          "execution_count": 18
        }
      ]
    },
    {
      "cell_type": "code",
      "source": [
        "data.max()"
      ],
      "metadata": {
        "colab": {
          "base_uri": "https://localhost:8080/"
        },
        "id": "38vL0rD3JQA6",
        "outputId": "9fd90fc6-08d8-4f51-8e37-a4ab181b59e4"
      },
      "execution_count": null,
      "outputs": [
        {
          "output_type": "execute_result",
          "data": {
            "text/plain": [
              "1.0"
            ]
          },
          "metadata": {},
          "execution_count": 19
        }
      ]
    },
    {
      "cell_type": "code",
      "source": [
        "data[0]"
      ],
      "metadata": {
        "colab": {
          "base_uri": "https://localhost:8080/"
        },
        "id": "oGWwv_WvJVSS",
        "outputId": "4481beda-d99d-49ec-9cbd-be18f224b16a"
      },
      "execution_count": null,
      "outputs": [
        {
          "output_type": "execute_result",
          "data": {
            "text/plain": [
              "array([0.    , 0.    , 0.3125, 0.8125, 0.5625, 0.0625, 0.    , 0.    ,\n",
              "       0.    , 0.    , 0.8125, 0.9375, 0.625 , 0.9375, 0.3125, 0.    ,\n",
              "       0.    , 0.1875, 0.9375, 0.125 , 0.    , 0.6875, 0.5   , 0.    ,\n",
              "       0.    , 0.25  , 0.75  , 0.    , 0.    , 0.5   , 0.5   , 0.    ,\n",
              "       0.    , 0.3125, 0.5   , 0.    , 0.    , 0.5625, 0.5   , 0.    ,\n",
              "       0.    , 0.25  , 0.6875, 0.    , 0.0625, 0.75  , 0.4375, 0.    ,\n",
              "       0.    , 0.125 , 0.875 , 0.3125, 0.625 , 0.75  , 0.    , 0.    ,\n",
              "       0.    , 0.    , 0.375 , 0.8125, 0.625 , 0.    , 0.    , 0.    ])"
            ]
          },
          "metadata": {},
          "execution_count": 20
        }
      ]
    },
    {
      "cell_type": "markdown",
      "source": [
        "# Train Test Split Data"
      ],
      "metadata": {
        "id": "HzuHk4UcJcFB"
      }
    },
    {
      "cell_type": "code",
      "source": [
        "from sklearn.model_selection import train_test_split"
      ],
      "metadata": {
        "id": "RwH5m8KxJhwb"
      },
      "execution_count": null,
      "outputs": []
    },
    {
      "cell_type": "code",
      "source": [
        "X_train, X_test, y_train, y_test = train_test_split(data,df.target, test_size=0.3)"
      ],
      "metadata": {
        "id": "4k8LTHcXJq1Y"
      },
      "execution_count": null,
      "outputs": []
    },
    {
      "cell_type": "code",
      "source": [
        "X_train.shape, X_test.shape, y_train.shape, y_test.shape"
      ],
      "metadata": {
        "colab": {
          "base_uri": "https://localhost:8080/"
        },
        "id": "oK8BeYuUKDk7",
        "outputId": "3d6fb435-8f45-411d-dee5-51c22893f314"
      },
      "execution_count": null,
      "outputs": [
        {
          "output_type": "execute_result",
          "data": {
            "text/plain": [
              "((1257, 64), (540, 64), (1257,), (540,))"
            ]
          },
          "metadata": {},
          "execution_count": 23
        }
      ]
    },
    {
      "cell_type": "markdown",
      "source": [
        "# Random Forest Model"
      ],
      "metadata": {
        "id": "kwIbRuhkKahf"
      }
    },
    {
      "cell_type": "code",
      "source": [
        "from sklearn.ensemble import RandomForestClassifier"
      ],
      "metadata": {
        "id": "yKqD2P3cKd6B"
      },
      "execution_count": null,
      "outputs": []
    },
    {
      "cell_type": "code",
      "source": [
        "rf = RandomForestClassifier()"
      ],
      "metadata": {
        "id": "Wnum-taxKnH4"
      },
      "execution_count": null,
      "outputs": []
    },
    {
      "cell_type": "code",
      "source": [
        "rf.fit(X_train, y_train)"
      ],
      "metadata": {
        "colab": {
          "base_uri": "https://localhost:8080/",
          "height": 51
        },
        "id": "hfi0hmF-Kwr6",
        "outputId": "48232ad1-131d-472c-a37a-7301620876d5"
      },
      "execution_count": null,
      "outputs": [
        {
          "output_type": "execute_result",
          "data": {
            "text/plain": [
              "RandomForestClassifier()"
            ],
            "text/html": [
              "<style>#sk-container-id-1 {color: black;background-color: white;}#sk-container-id-1 pre{padding: 0;}#sk-container-id-1 div.sk-toggleable {background-color: white;}#sk-container-id-1 label.sk-toggleable__label {cursor: pointer;display: block;width: 100%;margin-bottom: 0;padding: 0.3em;box-sizing: border-box;text-align: center;}#sk-container-id-1 label.sk-toggleable__label-arrow:before {content: \"▸\";float: left;margin-right: 0.25em;color: #696969;}#sk-container-id-1 label.sk-toggleable__label-arrow:hover:before {color: black;}#sk-container-id-1 div.sk-estimator:hover label.sk-toggleable__label-arrow:before {color: black;}#sk-container-id-1 div.sk-toggleable__content {max-height: 0;max-width: 0;overflow: hidden;text-align: left;background-color: #f0f8ff;}#sk-container-id-1 div.sk-toggleable__content pre {margin: 0.2em;color: black;border-radius: 0.25em;background-color: #f0f8ff;}#sk-container-id-1 input.sk-toggleable__control:checked~div.sk-toggleable__content {max-height: 200px;max-width: 100%;overflow: auto;}#sk-container-id-1 input.sk-toggleable__control:checked~label.sk-toggleable__label-arrow:before {content: \"▾\";}#sk-container-id-1 div.sk-estimator input.sk-toggleable__control:checked~label.sk-toggleable__label {background-color: #d4ebff;}#sk-container-id-1 div.sk-label input.sk-toggleable__control:checked~label.sk-toggleable__label {background-color: #d4ebff;}#sk-container-id-1 input.sk-hidden--visually {border: 0;clip: rect(1px 1px 1px 1px);clip: rect(1px, 1px, 1px, 1px);height: 1px;margin: -1px;overflow: hidden;padding: 0;position: absolute;width: 1px;}#sk-container-id-1 div.sk-estimator {font-family: monospace;background-color: #f0f8ff;border: 1px dotted black;border-radius: 0.25em;box-sizing: border-box;margin-bottom: 0.5em;}#sk-container-id-1 div.sk-estimator:hover {background-color: #d4ebff;}#sk-container-id-1 div.sk-parallel-item::after {content: \"\";width: 100%;border-bottom: 1px solid gray;flex-grow: 1;}#sk-container-id-1 div.sk-label:hover label.sk-toggleable__label {background-color: #d4ebff;}#sk-container-id-1 div.sk-serial::before {content: \"\";position: absolute;border-left: 1px solid gray;box-sizing: border-box;top: 0;bottom: 0;left: 50%;z-index: 0;}#sk-container-id-1 div.sk-serial {display: flex;flex-direction: column;align-items: center;background-color: white;padding-right: 0.2em;padding-left: 0.2em;position: relative;}#sk-container-id-1 div.sk-item {position: relative;z-index: 1;}#sk-container-id-1 div.sk-parallel {display: flex;align-items: stretch;justify-content: center;background-color: white;position: relative;}#sk-container-id-1 div.sk-item::before, #sk-container-id-1 div.sk-parallel-item::before {content: \"\";position: absolute;border-left: 1px solid gray;box-sizing: border-box;top: 0;bottom: 0;left: 50%;z-index: -1;}#sk-container-id-1 div.sk-parallel-item {display: flex;flex-direction: column;z-index: 1;position: relative;background-color: white;}#sk-container-id-1 div.sk-parallel-item:first-child::after {align-self: flex-end;width: 50%;}#sk-container-id-1 div.sk-parallel-item:last-child::after {align-self: flex-start;width: 50%;}#sk-container-id-1 div.sk-parallel-item:only-child::after {width: 0;}#sk-container-id-1 div.sk-dashed-wrapped {border: 1px dashed gray;margin: 0 0.4em 0.5em 0.4em;box-sizing: border-box;padding-bottom: 0.4em;background-color: white;}#sk-container-id-1 div.sk-label label {font-family: monospace;font-weight: bold;display: inline-block;line-height: 1.2em;}#sk-container-id-1 div.sk-label-container {text-align: center;}#sk-container-id-1 div.sk-container {/* jupyter's `normalize.less` sets `[hidden] { display: none; }` but bootstrap.min.css set `[hidden] { display: none !important; }` so we also need the `!important` here to be able to override the default hidden behavior on the sphinx rendered scikit-learn.org. See: https://github.com/scikit-learn/scikit-learn/issues/21755 */display: inline-block !important;position: relative;}#sk-container-id-1 div.sk-text-repr-fallback {display: none;}</style><div id=\"sk-container-id-1\" class=\"sk-top-container\"><div class=\"sk-text-repr-fallback\"><pre>RandomForestClassifier()</pre><b>In a Jupyter environment, please rerun this cell to show the HTML representation or trust the notebook. <br />On GitHub, the HTML representation is unable to render, please try loading this page with nbviewer.org.</b></div><div class=\"sk-container\" hidden><div class=\"sk-item\"><div class=\"sk-estimator sk-toggleable\"><input class=\"sk-toggleable__control sk-hidden--visually\" id=\"sk-estimator-id-1\" type=\"checkbox\" checked><label for=\"sk-estimator-id-1\" class=\"sk-toggleable__label sk-toggleable__label-arrow\">RandomForestClassifier</label><div class=\"sk-toggleable__content\"><pre>RandomForestClassifier()</pre></div></div></div></div></div>"
            ]
          },
          "metadata": {},
          "execution_count": 26
        }
      ]
    },
    {
      "cell_type": "markdown",
      "source": [
        "# Prdict Test Data"
      ],
      "metadata": {
        "id": "hVHf_92pK8a-"
      }
    },
    {
      "cell_type": "code",
      "source": [
        "y_pred = rf.predict(X_test)"
      ],
      "metadata": {
        "id": "gL-8Tr2jK_sx"
      },
      "execution_count": null,
      "outputs": []
    },
    {
      "cell_type": "code",
      "source": [
        "y_pred"
      ],
      "metadata": {
        "colab": {
          "base_uri": "https://localhost:8080/"
        },
        "id": "qeo3YYpbLJY2",
        "outputId": "6da5e78c-e260-4d52-cae5-25454877c6c4"
      },
      "execution_count": null,
      "outputs": [
        {
          "output_type": "execute_result",
          "data": {
            "text/plain": [
              "array([1, 3, 9, 1, 0, 0, 4, 2, 9, 2, 0, 1, 6, 7, 6, 3, 2, 4, 6, 2, 5, 3,\n",
              "       3, 6, 8, 5, 9, 8, 2, 6, 4, 1, 0, 0, 8, 7, 9, 2, 1, 6, 5, 6, 0, 9,\n",
              "       7, 2, 7, 6, 9, 7, 6, 2, 1, 8, 8, 3, 4, 5, 7, 1, 1, 6, 1, 4, 5, 1,\n",
              "       1, 4, 3, 7, 4, 9, 4, 6, 2, 2, 3, 9, 7, 3, 7, 4, 9, 5, 5, 7, 9, 2,\n",
              "       1, 4, 1, 6, 7, 2, 1, 1, 7, 0, 5, 7, 8, 6, 7, 4, 7, 9, 2, 3, 7, 1,\n",
              "       3, 5, 1, 3, 9, 4, 1, 7, 5, 6, 4, 3, 9, 1, 9, 8, 6, 7, 9, 1, 2, 4,\n",
              "       2, 1, 4, 5, 1, 3, 7, 3, 1, 0, 4, 5, 9, 8, 6, 8, 7, 8, 1, 5, 3, 3,\n",
              "       6, 2, 8, 7, 4, 4, 1, 3, 9, 3, 8, 9, 3, 9, 4, 9, 2, 5, 6, 1, 1, 9,\n",
              "       6, 9, 6, 0, 2, 9, 8, 2, 2, 5, 0, 8, 3, 9, 6, 3, 6, 5, 2, 2, 8, 7,\n",
              "       6, 6, 0, 0, 3, 1, 7, 3, 9, 5, 2, 5, 8, 4, 7, 1, 2, 1, 3, 9, 9, 2,\n",
              "       5, 0, 1, 0, 3, 2, 4, 8, 2, 5, 3, 3, 2, 2, 0, 1, 8, 4, 3, 9, 0, 3,\n",
              "       7, 1, 0, 9, 6, 7, 7, 2, 8, 0, 0, 1, 0, 7, 4, 8, 7, 3, 5, 4, 0, 5,\n",
              "       8, 8, 2, 0, 0, 4, 4, 2, 3, 1, 7, 9, 4, 8, 6, 4, 0, 9, 2, 1, 9, 1,\n",
              "       3, 2, 2, 6, 5, 2, 7, 4, 0, 9, 3, 5, 5, 1, 5, 8, 7, 4, 5, 2, 8, 7,\n",
              "       0, 6, 7, 7, 4, 4, 2, 2, 7, 0, 9, 0, 4, 8, 1, 5, 4, 6, 6, 9, 5, 1,\n",
              "       1, 4, 5, 2, 3, 2, 0, 9, 0, 0, 0, 3, 0, 4, 1, 1, 7, 9, 0, 3, 1, 0,\n",
              "       3, 3, 0, 2, 0, 2, 1, 4, 6, 5, 6, 9, 5, 0, 8, 4, 9, 9, 8, 7, 2, 2,\n",
              "       0, 8, 3, 6, 1, 9, 6, 4, 7, 4, 0, 6, 2, 2, 9, 6, 1, 6, 3, 2, 5, 7,\n",
              "       3, 5, 5, 4, 4, 7, 9, 0, 9, 8, 0, 5, 9, 7, 6, 1, 6, 4, 6, 7, 3, 2,\n",
              "       3, 8, 7, 6, 5, 7, 1, 7, 0, 9, 9, 0, 4, 0, 9, 1, 2, 8, 4, 1, 3, 0,\n",
              "       9, 4, 6, 7, 6, 4, 0, 9, 0, 5, 3, 1, 6, 4, 2, 4, 0, 9, 6, 6, 2, 2,\n",
              "       4, 6, 8, 4, 7, 5, 2, 7, 1, 3, 2, 1, 6, 4, 5, 2, 2, 1, 3, 3, 0, 4,\n",
              "       2, 3, 2, 3, 4, 4, 8, 7, 5, 5, 8, 8, 5, 3, 3, 7, 9, 2, 2, 7, 3, 7,\n",
              "       0, 8, 5, 2, 0, 0, 5, 6, 7, 5, 9, 7, 8, 1, 3, 8, 3, 0, 5, 4, 2, 1,\n",
              "       4, 1, 1, 0, 0, 6, 3, 0, 4, 5, 7, 7])"
            ]
          },
          "metadata": {},
          "execution_count": 28
        }
      ]
    },
    {
      "cell_type": "markdown",
      "source": [
        "# Model Accuracy"
      ],
      "metadata": {
        "id": "LJKcQfl3Lg38"
      }
    },
    {
      "cell_type": "code",
      "source": [
        "from sklearn.metrics import confusion_matrix, classification_report"
      ],
      "metadata": {
        "id": "xoAFeByVLj-Z"
      },
      "execution_count": null,
      "outputs": []
    },
    {
      "cell_type": "code",
      "source": [
        "confusion_matrix(y_test, y_pred)"
      ],
      "metadata": {
        "colab": {
          "base_uri": "https://localhost:8080/"
        },
        "id": "80FK-4IwLyq8",
        "outputId": "5df6225a-27fe-452b-b677-65f22961373e"
      },
      "execution_count": null,
      "outputs": [
        {
          "output_type": "execute_result",
          "data": {
            "text/plain": [
              "array([[55,  0,  0,  0,  0,  0,  0,  0,  0,  0],\n",
              "       [ 0, 55,  0,  0,  0,  0,  0,  0,  0,  0],\n",
              "       [ 0,  0, 62,  0,  0,  0,  0,  0,  0,  0],\n",
              "       [ 1,  0,  0, 54,  0,  0,  0,  1,  0,  0],\n",
              "       [ 0,  1,  0,  0, 57,  0,  1,  0,  1,  0],\n",
              "       [ 0,  0,  0,  0,  0, 48,  0,  0,  0,  1],\n",
              "       [ 1,  0,  0,  0,  0,  0, 49,  0,  1,  0],\n",
              "       [ 0,  0,  0,  0,  0,  0,  0, 55,  0,  0],\n",
              "       [ 0,  3,  1,  0,  1,  0,  0,  0, 36,  0],\n",
              "       [ 0,  0,  0,  2,  0,  0,  0,  1,  1, 52]])"
            ]
          },
          "metadata": {},
          "execution_count": 31
        }
      ]
    },
    {
      "cell_type": "code",
      "source": [
        "print(classification_report(y_test, y_pred))"
      ],
      "metadata": {
        "colab": {
          "base_uri": "https://localhost:8080/"
        },
        "id": "DJ3ZlAq0L9ak",
        "outputId": "860e45e0-37ba-4d39-90a8-0b9634e9bbfd"
      },
      "execution_count": null,
      "outputs": [
        {
          "output_type": "stream",
          "name": "stdout",
          "text": [
            "              precision    recall  f1-score   support\n",
            "\n",
            "           0       0.96      1.00      0.98        55\n",
            "           1       0.93      1.00      0.96        55\n",
            "           2       0.98      1.00      0.99        62\n",
            "           3       0.96      0.96      0.96        56\n",
            "           4       0.98      0.95      0.97        60\n",
            "           5       1.00      0.98      0.99        49\n",
            "           6       0.98      0.96      0.97        51\n",
            "           7       0.96      1.00      0.98        55\n",
            "           8       0.92      0.88      0.90        41\n",
            "           9       0.98      0.93      0.95        56\n",
            "\n",
            "    accuracy                           0.97       540\n",
            "   macro avg       0.97      0.97      0.97       540\n",
            "weighted avg       0.97      0.97      0.97       540\n",
            "\n"
          ]
        }
      ]
    }
  ]
}